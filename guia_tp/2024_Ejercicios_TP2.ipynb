{
  "nbformat": 4,
  "nbformat_minor": 0,
  "metadata": {
    "kernelspec": {
      "display_name": "Python 3",
      "language": "python",
      "name": "python3"
    },
    "language_info": {
      "codemirror_mode": {
        "name": "ipython",
        "version": 3
      },
      "file_extension": ".py",
      "mimetype": "text/x-python",
      "name": "python",
      "nbconvert_exporter": "python",
      "pygments_lexer": "ipython3",
      "version": "3.5.2"
    },
    "colab": {
      "name": "2022  Ejercicios-TP2.ipynb",
      "provenance": [],
      "collapsed_sections": []
    }
  },
  "cells": [
    {
      "cell_type": "markdown",
      "metadata": {
        "id": "t3Qwiu2zwPpM"
      },
      "source": [
        "# TP2 - EFECTO FOTOELÉCTRICO"
      ]
    },
    {
      "cell_type": "code",
      "metadata": {
        "id": "0HW0uuZitT_l"
      },
      "source": [
        "# acá va la carátula (pegar como imagen)"
      ],
      "execution_count": null,
      "outputs": []
    },
    {
      "cell_type": "markdown",
      "metadata": {
        "id": "Z5WUXefSKOZI"
      },
      "source": [
        "## INTRODUCCIÓN\n",
        "Escriba una introducción al Efecto Fotoeléctrico. Trate de explicar a grandes rasgos en qué contexto histórico se desarrolló, quiénes fueron los científicos involucrados en el descubrimiento o desarrollo y de qué trata la experiencia (cuáles son los resultados esperados)."
      ]
    },
    {
      "cell_type": "code",
      "metadata": {
        "id": "uL7JBfA2JrrB"
      },
      "source": [
        "# acá va la introducción (usar una celda de texto y escribir en cursiva)"
      ],
      "execution_count": null,
      "outputs": []
    },
    {
      "cell_type": "markdown",
      "metadata": {
        "id": "FrA-N6WPKX80"
      },
      "source": [
        "## DESARROLLO DEL TRABAJO"
      ]
    },
    {
      "cell_type": "markdown",
      "metadata": {
        "id": "xmHbUVZ8wPpT"
      },
      "source": [
        "Dada una fotocélula con cátodo de Potasio y ánodo de Platino (o algún otro metal), se dispone un experimento con una configuración como la explicada en el apunte teórico.<br>\n",
        "<br>\n",
        "En primer lugar, se cuenta con una lámpara de mercurio y varios filtros para permitir sólo el paso de ciertas longitudes de onda provenientes de la misma. Fijando el filtro amarillo, e iniciando con un potencial de frenado $U = 0$, varíe la tensión con el reóstato hasta comprobar que no hay más corriente en el amperímetro (y un poco más). A medida que cambia de valor de tensión, anote tensión y corriente. La tensión deberá ser tomada con signo negativo (es decir, si lee 1V, debe anotar -1V), por convención. <br>\n",
        "<br>\n",
        "Esta parte de la práctica será con intensidad de la luz constante."
      ]
    },
    {
      "cell_type": "markdown",
      "metadata": {
        "id": "8JfBr4W_fRqp"
      },
      "source": [
        "<hr>\n",
        "\n",
        "<b><u>Nota :</u></b> damos una tabla de valores para realizar los calculos. La ley que sigue esta curva es de la forma $i(v) = A.(e^{B.(v + C)}-0.899)$. Se deben hallar los parámetros A, B y C.<br>\n",
        "<br>\n",
        "<table>\n",
        "  <thead>\n",
        "    <tr><th colspan=2>Color amarillo (578 nm)</th></tr>\n",
        "    <tr><th>Tensión (V)</th><th>Corriente (pA)</th></tr>\n",
        "  </thead>\n",
        "    <tr><th>-3.00000</th><th>-7.37166</th></tr>\n",
        "    <tr><th>-2.73333</th><th>-7.37154</th></tr>\n",
        "    <tr><th>-2.46667</th><th>-7.37106</th></tr>\n",
        "    <tr><th>-2.20000</th><th>-7.36926</th></tr>\n",
        "    <tr><th>-1.93333</th><th>-7.36248</th></tr>\n",
        "    <tr><th>-1.66667</th><th>-7.33693</th></tr>\n",
        "    <tr><th>-1.40000</th><th>-7.24064</th></tr>\n",
        "    <tr><th>-1.13333</th><th>-6.87778</th></tr>\n",
        "    <tr><th>-0.86667</th><th>-5.51042</th></tr>\n",
        "    <tr><th>-0.60000</th><th>-0.35770</th></tr>\n",
        "    <tr><th>-0.59444</th><th>-0.16114</th></tr>\n",
        "    <tr><th>-0.58889</th><th>0.04093</th></tr>\n",
        "    <tr><th>-0.58333</th><th>0.24866</th></tr>\n",
        "    <tr><th>-0.57778</th><th>0.46221</th></tr>\n",
        "    <tr><th>-0.57222</th><th>0.68175</th></tr>\n",
        "    <tr><th>-0.56667</th><th>0.90744</th></tr>\n",
        "    <tr><th>-0.56111</th><th>1.13945</th></tr>\n",
        "    <tr><th>-0.55556</th><th>1.37797</th></tr>\n",
        "    <tr><th>-0.55000</th><th>1.62317</th></tr>\n",
        "    <tr><th>-0.48889</th><th>4.81903</th></tr>\n",
        "    <tr><th>-0.42778</th><th>9.15038</th></tr>\n",
        "    <tr><th>-0.36667</th><th>15.02066</th></tr>\n",
        "    <tr><th>-0.30556</th><th>22.97663</th></tr>\n",
        "    <tr><th>-0.24444</th><th>33.75934</th></tr>\n",
        "    <tr><th>-0.18333</th><th>48.37314</th></tr>\n",
        "    <tr><th>-0.12222</th><th>68.17920</th></tr>\n",
        "    <tr><th>-0.06111</th><th>95.02232</th></tr>\n",
        "</table>"
      ]
    },
    {
      "cell_type": "code",
      "metadata": {
        "id": "EJygqJkTwPpU"
      },
      "source": [
        "# acá va la curva tensión de frenado versus la corriente observada"
      ],
      "execution_count": null,
      "outputs": []
    },
    {
      "cell_type": "markdown",
      "metadata": {
        "id": "j_19j5HXwPpV"
      },
      "source": [
        "En segundo lugar, determine el valor de $U_0$ hallando el primer valor de tensión en el cual la corriente se hace cero. Hay varias formas de determinar este potencial, algunas de las cuales son más precisas que otras. Para este trabajo, consideraremos el cruce de la curva con el eje de las abcisas (o sea, la tensión $U$)."
      ]
    },
    {
      "cell_type": "code",
      "metadata": {
        "id": "L-bKLZ9mwPpV"
      },
      "source": [
        "# acá va el valor de U0"
      ],
      "execution_count": null,
      "outputs": []
    },
    {
      "cell_type": "markdown",
      "metadata": {
        "id": "vx3B0CETwPpW"
      },
      "source": [
        "<b>Ahora procederemos a hallar un valor de $U_0$ para cada filtro de color.</b><br>\n",
        "<br>\n",
        "La ley que sigue la curva del color verde (546 nm) es de la forma $i(v) = A.(e^{B.(v + C)}-0,5201)$. Se deben hallar los parámetros A, B y C (si se calcularon para el amarillo, son los mismos, sólo hay que despejar el valor de $v$ cuando $i(v) = 0$, o sea, puede no usarse la tabla).<br>\n",
        "Debe realizarse el gráfico de la curva, a partir de la ley.\n",
        "<br>\n",
        "<table>\n",
        "  <thead>\n",
        "    <tr><th colspan=2>Color verde (546 nm)</th></tr>\n",
        "    <tr><th>Tensión (V)</th><th>Corriente (pA)</th></tr>\n",
        "  </thead>\n",
        "    <tr><th>-3.00000</th><th>-4.26472</th></tr>\n",
        "    <tr><th>-2.75556</th><th>-4.26461</th></tr>\n",
        "    <tr><th>-2.51111</th><th>-4.26425</th></tr>\n",
        "    <tr><th>-2.26667</th><th>-4.26301</th></tr>\n",
        "    <tr><th>-2.02222</th><th>-4.25884</th></tr>\n",
        "    <tr><th>-1.77778</th><th>-4.24476</th></tr>\n",
        "    <tr><th>-1.53333</th><th>-4.19725</th></tr>\n",
        "    <tr><th>-1.28889</th><th>-4.03696</th></tr>\n",
        "    <tr><th>-1.04444</th><th>-3.49615</th></tr>\n",
        "    <tr><th>-0.80000</th><th>-1.67147</th></tr>\n",
        "    <tr><th>-0.78333</th><th>-1.44728</th></tr>\n",
        "    <tr><th>-0.76667</th><th>-1.20371</th></tr>\n",
        "    <tr><th>-0.75000</th><th>-0.93908</th></tr>\n",
        "    <tr><th>-0.73333</th><th>-0.65158</th></tr>\n",
        "    <tr><th>-0.71667</th><th>-0.33922</th></tr>\n",
        "    <tr><th>-0.70000</th><th>0.00014</th></tr>\n",
        "    <tr><th>-0.68333</th><th>0.36884</th></tr>\n",
        "    <tr><th>-0.66667</th><th>0.76941</th></tr>\n",
        "    <tr><th>-0.65000</th><th>1.20461</th></tr>\n",
        "    <tr><th>-0.57778</th><th>3.56916</th></tr>\n",
        "    <tr><th>-0.50556</th><th>6.95595</th></tr>\n",
        "    <tr><th>-0.43333</th><th>11.80693</th></tr>\n",
        "    <tr><th>-0.36111</th><th>18.75512</th></tr>\n",
        "    <tr><th>-0.28889</th><th>28.70717</th></tr>\n",
        "    <tr><th>-0.21667</th><th>42.96173</th></tr>\n",
        "    <tr><th>-0.14444</th><th>63.37888</th></tr>\n",
        "    <tr><th>-0.07222</th><th>92.62285</th></tr>\n",
        "    <tr><th>0.00000</th><th>134.50970</th></tr>\n",
        "</table>"
      ]
    },
    {
      "cell_type": "code",
      "metadata": {
        "id": "Td1KIxa3-we5"
      },
      "source": [
        "# acá va el valor de U0 para el verde y la gráfica"
      ],
      "execution_count": null,
      "outputs": []
    },
    {
      "cell_type": "markdown",
      "metadata": {
        "id": "KW1A9svez7At"
      },
      "source": [
        "La ley que sigue la curva del color azul (436 nm) es de la forma $i(v) = A.(e^{B.(v + C)}-0,0372)$. Los parámetros A, B y C son los mismos que para el verde.<br>\n",
        "Debe realizarse el gráfico de la curva, a partir de la ley.\n",
        "<br>"
      ]
    },
    {
      "cell_type": "code",
      "metadata": {
        "id": "4tlnCL35_bZ9"
      },
      "source": [
        "# acá va el valor de U0 para el azul y la gráfica"
      ],
      "execution_count": null,
      "outputs": []
    },
    {
      "cell_type": "markdown",
      "metadata": {
        "id": "GjUoZzJp0AdF"
      },
      "source": [
        "La ley que sigue la curva del color violeta (405 nm) es de la forma $i(v) = A.(e^{\\frac{B}{2}.(v - \\frac{C}{2})}-0,0159)$. Los parámetros A, B y C son los mismos que para el verde.<br>\n",
        "Debe realizarse el gráfico de la curva, a partir de la ley.\n",
        "<br>"
      ]
    },
    {
      "cell_type": "code",
      "metadata": {
        "id": "yQ3JkudCwPpW"
      },
      "source": [
        "# acá va el valor de U0 para el violeta y la gráfica"
      ],
      "execution_count": null,
      "outputs": []
    },
    {
      "cell_type": "markdown",
      "metadata": {
        "id": "fjgjbhXcwPpW"
      },
      "source": [
        "Si todos los pasos fueron ejecutados correctamente, deberá tener una tabla de frecuencias (expresadas en $\\text{[THz]} = 10^{\\text{12}} \\text{[Hz]}$) contra tensiones de corte $U_0$ (expresadas en $\\text{[Volt]}$).<br>\n",
        "<br>\n",
        "En estas condiciones, arme un gráfico X-Y, colocando en X las frecuencias y en Y las tensiones contenidas en la tabla, cambiando el signo de las tensiones (de negativas a positivas, también, por convención) y agregando el error producto de la medición tal cual se explica más abajo. Ajuste una recta a todos los puntos y halle:\n",
        "- Pendiente y su error con sus unidades\n",
        "- Ordenada al origen (tensiones) y su error con sus unidades\n",
        "- Cruce con el eje X (frecuencias) con sus unidades\n",
        "\n",
        "<br><b>Error en tensiones:</b> si bien estamos considerando formas matemáticas para las curvas de tensión y corriente, estas tensiones pueden ser medidas (como hacemos con el color amarillo). Por este motivo, a las tensiones halladas hay que agregarles el error instrumental (despreciamos el de operación). Consideraremos el error de los instrumentos analógicos (mínima división sobre 2) y lo fijaremos en 0,1 V.\n",
        "\n",
        "<br>¿Por qué no consideramos error en las frecuencias? Piense en las magnitudes y unidades de las longitudes de onda (que son el verdadero dato) y ensaye una explicación."
      ]
    },
    {
      "cell_type": "code",
      "metadata": {
        "id": "JW1JFppIwPpX"
      },
      "source": [
        "# acá va la gráfica de ajuste"
      ],
      "execution_count": null,
      "outputs": []
    },
    {
      "cell_type": "markdown",
      "metadata": {
        "id": "rCtrhk0kwPpX"
      },
      "source": [
        "Indique:\n",
        "- ¿Qué significa la ordenada al origen multiplicada por la carga del electrón?\n",
        "- ¿Qué significa el punto donde la curva cruza por el eje de las abcisas?\n",
        "- Valor de la constante de Planck junto con su error.\n"
      ]
    },
    {
      "cell_type": "code",
      "metadata": {
        "id": "0fy4mog3wPpY"
      },
      "source": [
        "# acá van las soluciones de las preguntas, la cte. de Planck y la calidad del ajuste"
      ],
      "execution_count": null,
      "outputs": []
    },
    {
      "cell_type": "markdown",
      "source": [
        "# Realizar la misma grafica con los datos experimentales obtenidos en el laboratorio\n",
        "\n",
        "En estas condiciones, arme un gráfico X-Y, colocando en X las frecuencias y en Y las tensiones contenidas en la tabla, cambiando el signo de las tensiones (de negativas a positivas, también, por convención) y agregando el error producto de la medición tal cual se explica más abajo. Ajuste una recta a todos los puntos y halle:\n",
        "\n",
        "Pendiente y su error con sus unidades\n",
        "Ordenada al origen (tensiones) y su error con sus unidades\n",
        "Cruce con el eje X (frecuencias) con sus unidades\n"
      ],
      "metadata": {
        "id": "2e5mgZ2R-WNi"
      }
    },
    {
      "cell_type": "markdown",
      "metadata": {
        "id": "RzwntJ4sw-4D"
      },
      "source": [
        "\n"
      ]
    },
    {
      "cell_type": "code",
      "metadata": {
        "id": "FTZUne9_2l10"
      },
      "source": [
        "# acá van las respuestas (usar una celda de texto y escribir en cursiva)"
      ],
      "execution_count": null,
      "outputs": []
    },
    {
      "cell_type": "markdown",
      "metadata": {
        "id": "9W1B2nLGKcMm"
      },
      "source": [
        "## CONCLUSIONES\n",
        "Intente resumir los resultados del trabajo, resaltando lo que le pareció más importante. Vincule los resultados con lo que describió en la Introducción de este TP."
      ]
    },
    {
      "cell_type": "code",
      "metadata": {
        "id": "sOYkeKiGKd7t"
      },
      "source": [
        "# acá van las conclusiones (usar una celda de texto y escribir en cursiva)"
      ],
      "execution_count": null,
      "outputs": []
    }
  ]
}